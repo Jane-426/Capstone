{
 "cells": [
  {
   "cell_type": "code",
   "execution_count": null,
   "id": "d957ce35",
   "metadata": {},
   "outputs": [],
   "source": [
    "import sys\n",
    "import matplotlib.pyplot as plt\n",
    "import numpy as np\n",
    "from collections import defaultdict\n",
    "\n",
    "\n",
    "def add(path):\n",
    "    if path not in sys.path:\n",
    "        sys.path.append(path)\n",
    "add(\"../auction-gym/src\")\n",
    "\n",
    "\n",
    "from main import parse_config, instantiate_agents, instantiate_auction\n",
    "import ad_auction_2\n",
    "%load_ext autoreload\n",
    "%autoreload 1\n",
    "%aimport ad_auction_2"
   ]
  },
  {
   "cell_type": "code",
   "execution_count": null,
   "id": "ae90f353",
   "metadata": {},
   "outputs": [],
   "source": [
    "ad_auction_2.ad_auction_2(\"config.json\")"
   ]
  },
  {
   "cell_type": "code",
   "execution_count": null,
   "id": "63ee138c",
   "metadata": {},
   "outputs": [],
   "source": [
    "# Parse configuration file\n",
    "rng, config, agent_configs, agents2items, agents2item_values,\\\n",
    "num_runs, max_slots, embedding_size, embedding_var,\\\n",
    "obs_embedding_size = parse_config('config.json')"
   ]
  },
  {
   "cell_type": "markdown",
   "id": "5dde4909",
   "metadata": {},
   "source": [
    "# Config\n",
    "\n",
    "For an explanation of the config fields, see [CONFIG.md](https://github.com/amzn/auction-gym/blob/065f8bf325ebbec9c96631625ef1c36df3870cb3/CONFIG.md?plain=1#L30)."
   ]
  },
  {
   "cell_type": "code",
   "execution_count": null,
   "id": "6e303c03",
   "metadata": {},
   "outputs": [],
   "source": [
    "config"
   ]
  },
  {
   "cell_type": "code",
   "execution_count": null,
   "id": "76d3d928",
   "metadata": {},
   "outputs": [],
   "source": [
    "agent_configs"
   ]
  },
  {
   "cell_type": "code",
   "execution_count": null,
   "id": "c2cf954f",
   "metadata": {},
   "outputs": [],
   "source": [
    "agents = instantiate_agents(rng, agent_configs, agents2item_values, agents2items)\n",
    "\n",
    "auction, num_iter, rounds_per_iter, output_dir =\\\n",
    "    instantiate_auction(rng,\n",
    "                        config,\n",
    "                        agents2items,\n",
    "                        agents2item_values,\n",
    "                        agents,\n",
    "                        max_slots,\n",
    "                        embedding_size,\n",
    "                        embedding_var,\n",
    "                        obs_embedding_size)\n",
    "config"
   ]
  },
  {
   "cell_type": "code",
   "execution_count": null,
   "id": "5803421d",
   "metadata": {},
   "outputs": [],
   "source": [
    "# Let's decrease rounds_per_iter for now b/c we just want to test things out.\n",
    "# Using a lower rounds_per_iter just means that the runs will take less time.\n",
    "rounds_per_iter = 100"
   ]
  },
  {
   "cell_type": "code",
   "execution_count": null,
   "id": "42dbef81",
   "metadata": {},
   "outputs": [],
   "source": [
    "for _ in range(rounds_per_iter):\n",
    "    auction.simulate_opportunity()"
   ]
  },
  {
   "cell_type": "code",
   "execution_count": null,
   "id": "eb1540de",
   "metadata": {},
   "outputs": [],
   "source": [
    "agents[0].net_utility"
   ]
  },
  {
   "cell_type": "code",
   "execution_count": null,
   "id": "e68d7ad0",
   "metadata": {},
   "outputs": [],
   "source": []
  },
  {
   "cell_type": "code",
   "execution_count": null,
   "id": "ece6dec6",
   "metadata": {},
   "outputs": [],
   "source": [
    "from ad_auction_2 import ad_auction"
   ]
  },
  {
   "cell_type": "code",
   "execution_count": null,
   "id": "3bf96f35",
   "metadata": {},
   "outputs": [],
   "source": [
    "ad_auction(\"config.json\")"
   ]
  },
  {
   "cell_type": "code",
   "execution_count": null,
   "id": "2839d88e",
   "metadata": {},
   "outputs": [],
   "source": []
  },
  {
   "cell_type": "code",
   "execution_count": null,
   "id": "72b89a43",
   "metadata": {},
   "outputs": [],
   "source": []
  },
  {
   "cell_type": "code",
   "execution_count": null,
   "id": "3868fa17",
   "metadata": {},
   "outputs": [],
   "source": []
  }
 ],
 "metadata": {
  "language_info": {
   "name": "python",
   "pygments_lexer": "ipython3"
  }
 },
 "nbformat": 4,
 "nbformat_minor": 5
}
