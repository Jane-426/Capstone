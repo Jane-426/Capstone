{
 "cells": [
  {
   "cell_type": "code",
   "execution_count": 1,
   "id": "initial_id",
   "metadata": {
    "collapsed": true,
    "ExecuteTime": {
     "end_time": "2023-11-18T19:40:12.393201Z",
     "start_time": "2023-11-18T19:40:10.250602Z"
    }
   },
   "outputs": [],
   "source": [
    "import sys\n",
    "import matplotlib.pyplot as plt\n",
    "import numpy as np\n",
    "from collections import defaultdict\n",
    "\n",
    "\n",
    "def add(path):\n",
    "    if path not in sys.path:\n",
    "        sys.path.append(path)\n",
    "add(\"/Users/yuchenji/PycharmProjects/auction-gym/src\")\n",
    "\n",
    "\n",
    "from main import parse_config, instantiate_agents, instantiate_auction\n",
    "import ad_auction\n",
    "%load_ext autoreload\n",
    "%autoreload 1\n",
    "%aimport ad_auction"
   ]
  },
  {
   "cell_type": "code",
   "execution_count": 3,
   "outputs": [
    {
     "data": {
      "text/plain": "7.377187021652495"
     },
     "execution_count": 3,
     "metadata": {},
     "output_type": "execute_result"
    }
   ],
   "source": [
    "ad_auction.ad_auction(\"config.json\")"
   ],
   "metadata": {
    "collapsed": false,
    "ExecuteTime": {
     "end_time": "2023-11-18T19:41:36.612916Z",
     "start_time": "2023-11-18T19:41:36.332037Z"
    }
   },
   "id": "de10b4a248fc6980"
  },
  {
   "cell_type": "code",
   "execution_count": 4,
   "outputs": [],
   "source": [
    "# Parse configuration file\n",
    "rng, config, agent_configs, agents2items, agents2item_values,\\\n",
    "num_runs, max_slots, embedding_size, embedding_var,\\\n",
    "obs_embedding_size = parse_config('config.json')"
   ],
   "metadata": {
    "collapsed": false,
    "ExecuteTime": {
     "start_time": "2023-11-18T19:41:48.033222Z"
    }
   },
   "id": "c23015d4ae43845e"
  },
  {
   "cell_type": "markdown",
   "source": [
    "# Config\n",
    "\n",
    "For an explanation of the config fields, see CONFIG.md."
   ],
   "metadata": {
    "collapsed": false
   },
   "id": "419866988e510a51"
  },
  {
   "cell_type": "code",
   "execution_count": 5,
   "outputs": [
    {
     "data": {
      "text/plain": "{'random_seed': 0,\n 'num_runs': 3,\n 'num_iter': 20,\n 'rounds_per_iter': 10000,\n 'num_participants_per_round': 2,\n 'embedding_size': 5,\n 'embedding_var': 1.0,\n 'obs_embedding_size': 4,\n 'allocation': 'SecondPrice',\n 'agents': [{'name': 'OurAgent',\n   'num_copies': 1,\n   'num_items': 12,\n   'allocator': {'type': 'OracleAllocator', 'kwargs': {}},\n   'bidder': {'type': 'TruthfulBidder', 'kwargs': {}}},\n  {'name': 'TruthfulOracle',\n   'num_copies': 6,\n   'num_items': 12,\n   'allocator': {'type': 'OracleAllocator', 'kwargs': {}},\n   'bidder': {'type': 'TruthfulBidder', 'kwargs': {}}}],\n 'output_dir': 'results/SP_Oracle/'}"
     },
     "execution_count": 5,
     "metadata": {},
     "output_type": "execute_result"
    }
   ],
   "source": [
    "config"
   ],
   "metadata": {
    "collapsed": false,
    "ExecuteTime": {
     "start_time": "2023-11-18T19:42:16.485291Z"
    }
   },
   "id": "1baf8fa2179444a5"
  },
  {
   "cell_type": "code",
   "execution_count": 6,
   "outputs": [
    {
     "data": {
      "text/plain": "[{'name': 'OurAgent 1',\n  'num_copies': 1,\n  'num_items': 12,\n  'allocator': {'type': 'OracleAllocator', 'kwargs': {}},\n  'bidder': {'type': 'TruthfulBidder', 'kwargs': {}}},\n {'name': 'TruthfulOracle 2',\n  'num_copies': 6,\n  'num_items': 12,\n  'allocator': {'type': 'OracleAllocator', 'kwargs': {}},\n  'bidder': {'type': 'TruthfulBidder', 'kwargs': {}}},\n {'name': 'TruthfulOracle 3',\n  'num_copies': 6,\n  'num_items': 12,\n  'allocator': {'type': 'OracleAllocator', 'kwargs': {}},\n  'bidder': {'type': 'TruthfulBidder', 'kwargs': {}}},\n {'name': 'TruthfulOracle 4',\n  'num_copies': 6,\n  'num_items': 12,\n  'allocator': {'type': 'OracleAllocator', 'kwargs': {}},\n  'bidder': {'type': 'TruthfulBidder', 'kwargs': {}}},\n {'name': 'TruthfulOracle 5',\n  'num_copies': 6,\n  'num_items': 12,\n  'allocator': {'type': 'OracleAllocator', 'kwargs': {}},\n  'bidder': {'type': 'TruthfulBidder', 'kwargs': {}}},\n {'name': 'TruthfulOracle 6',\n  'num_copies': 6,\n  'num_items': 12,\n  'allocator': {'type': 'OracleAllocator', 'kwargs': {}},\n  'bidder': {'type': 'TruthfulBidder', 'kwargs': {}}},\n {'name': 'TruthfulOracle 7',\n  'num_copies': 6,\n  'num_items': 12,\n  'allocator': {'type': 'OracleAllocator', 'kwargs': {}},\n  'bidder': {'type': 'TruthfulBidder', 'kwargs': {}}}]"
     },
     "execution_count": 6,
     "metadata": {},
     "output_type": "execute_result"
    }
   ],
   "source": [
    "agent_configs"
   ],
   "metadata": {
    "collapsed": false,
    "ExecuteTime": {
     "start_time": "2023-11-18T19:42:25.917816Z"
    }
   },
   "id": "1114da333e2f29bd"
  },
  {
   "cell_type": "code",
   "execution_count": 14,
   "outputs": [
    {
     "name": "stdout",
     "output_type": "stream",
     "text": [
      "Number of Truthful Bidders in the agents array: 7\n"
     ]
    }
   ],
   "source": [
    "num_truthful_bidders = sum(agent['num_copies'] for agent in config['agents'] if agent['bidder']['type'] == 'TruthfulBidder')\n",
    "\n",
    "print(f\"Number of Truthful Bidders in the agents array: {num_truthful_bidders}\")"
   ],
   "metadata": {
    "collapsed": false,
    "ExecuteTime": {
     "start_time": "2023-11-18T19:48:06.148826Z"
    }
   },
   "id": "29be56186c6c719b"
  },
  {
   "cell_type": "code",
   "execution_count": 7,
   "outputs": [
    {
     "data": {
      "text/plain": "{'random_seed': 0,\n 'num_runs': 3,\n 'num_iter': 20,\n 'rounds_per_iter': 10000,\n 'num_participants_per_round': 2,\n 'embedding_size': 5,\n 'embedding_var': 1.0,\n 'obs_embedding_size': 4,\n 'allocation': 'SecondPrice',\n 'agents': [{'name': 'OurAgent',\n   'num_copies': 1,\n   'num_items': 12,\n   'allocator': {'type': 'OracleAllocator', 'kwargs': {}},\n   'bidder': {'type': 'TruthfulBidder', 'kwargs': {}}},\n  {'name': 'TruthfulOracle',\n   'num_copies': 6,\n   'num_items': 12,\n   'allocator': {'type': 'OracleAllocator', 'kwargs': {}},\n   'bidder': {'type': 'TruthfulBidder', 'kwargs': {}}}],\n 'output_dir': 'results/SP_Oracle/'}"
     },
     "execution_count": 7,
     "metadata": {},
     "output_type": "execute_result"
    }
   ],
   "source": [
    "agents = instantiate_agents(rng, agent_configs, agents2item_values, agents2items)\n",
    "\n",
    "auction, num_iter, rounds_per_iter, output_dir =\\\n",
    "    instantiate_auction(rng,\n",
    "                        config,\n",
    "                        agents2items,\n",
    "                        agents2item_values,\n",
    "                        agents,\n",
    "                        max_slots,\n",
    "                        embedding_size,\n",
    "                        embedding_var,\n",
    "                        obs_embedding_size)\n",
    "config"
   ],
   "metadata": {
    "collapsed": false,
    "ExecuteTime": {
     "start_time": "2023-11-18T19:42:33.621864Z"
    }
   },
   "id": "c310b27d5f79d311"
  },
  {
   "cell_type": "code",
   "execution_count": 8,
   "outputs": [],
   "source": [
    "# Let's decrease rounds_per_iter for now b/c we just want to test things out.\n",
    "# Using a lower rounds_per_iter just means that the runs will take less time.\n",
    "rounds_per_iter = 100"
   ],
   "metadata": {
    "collapsed": false,
    "ExecuteTime": {
     "end_time": "2023-11-18T19:42:43.088571Z",
     "start_time": "2023-11-18T19:42:43.065537Z"
    }
   },
   "id": "c409679f58d0d683"
  },
  {
   "cell_type": "code",
   "execution_count": 9,
   "outputs": [],
   "source": [
    "for _ in range(rounds_per_iter):\n",
    "    auction.simulate_opportunity()"
   ],
   "metadata": {
    "collapsed": false,
    "ExecuteTime": {
     "end_time": "2023-11-18T19:42:50.889476Z",
     "start_time": "2023-11-18T19:42:50.861981Z"
    }
   },
   "id": "fab090669d63531a"
  },
  {
   "cell_type": "code",
   "execution_count": 10,
   "outputs": [
    {
     "data": {
      "text/plain": "7.377187021652495"
     },
     "execution_count": 10,
     "metadata": {},
     "output_type": "execute_result"
    }
   ],
   "source": [
    "agents[0].net_utility"
   ],
   "metadata": {
    "collapsed": false,
    "ExecuteTime": {
     "end_time": "2023-11-18T19:42:57.700051Z",
     "start_time": "2023-11-18T19:42:57.672526Z"
    }
   },
   "id": "fb751d25e4d145b"
  },
  {
   "cell_type": "code",
   "execution_count": 12,
   "outputs": [],
   "source": [
    "from ad_auction import ad_auction"
   ],
   "metadata": {
    "collapsed": false,
    "ExecuteTime": {
     "end_time": "2023-11-18T19:43:15.263029Z",
     "start_time": "2023-11-18T19:43:15.256960Z"
    }
   },
   "id": "e97e72afaeb7a515"
  },
  {
   "cell_type": "code",
   "execution_count": 13,
   "outputs": [
    {
     "data": {
      "text/plain": "7.377187021652495"
     },
     "execution_count": 13,
     "metadata": {},
     "output_type": "execute_result"
    }
   ],
   "source": [
    "ad_auction(\"config.json\")"
   ],
   "metadata": {
    "collapsed": false,
    "ExecuteTime": {
     "end_time": "2023-11-18T19:43:23.932201Z",
     "start_time": "2023-11-18T19:43:23.907114Z"
    }
   },
   "id": "d3c282cdeff4ce84"
  }
 ],
 "metadata": {
  "kernelspec": {
   "display_name": "Python 3",
   "language": "python",
   "name": "python3"
  },
  "language_info": {
   "codemirror_mode": {
    "name": "ipython",
    "version": 2
   },
   "file_extension": ".py",
   "mimetype": "text/x-python",
   "name": "python",
   "nbconvert_exporter": "python",
   "pygments_lexer": "ipython2",
   "version": "2.7.6"
  }
 },
 "nbformat": 4,
 "nbformat_minor": 5
}
