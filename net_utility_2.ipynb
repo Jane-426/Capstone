{
 "cells": [
  {
   "cell_type": "code",
   "execution_count": null,
   "id": "initial_id",
   "metadata": {},
   "outputs": [],
   "source": [
    "import sys\n",
    "import matplotlib.pyplot as plt\n",
    "import numpy as np\n",
    "from collections import defaultdict\n",
    "\n",
    "\n",
    "def add(path):\n",
    "    if path not in sys.path:\n",
    "        sys.path.append(path)\n",
    "add(\"/Users/yuchenji/PycharmProjects/auction-gym/src\")\n",
    "\n",
    "\n",
    "from main import parse_config, instantiate_agents, instantiate_auction\n",
    "import ad_auction\n",
    "%load_ext autoreload\n",
    "%autoreload 1\n",
    "%aimport ad_auction"
   ]
  },
  {
   "cell_type": "code",
   "execution_count": null,
   "outputs": [],
   "source": [
    "ad_auction.ad_auction(\"config.json\")"
   ],
   "metadata": {},
   "id": "de10b4a248fc6980"
  },
  {
   "cell_type": "code",
   "execution_count": null,
   "outputs": [],
   "source": [
    "# Parse configuration file\n",
    "rng, config, agent_configs, agents2items, agents2item_values,\\\n",
    "num_runs, max_slots, embedding_size, embedding_var,\\\n",
    "obs_embedding_size = parse_config('config.json')"
   ],
   "metadata": {},
   "id": "c23015d4ae43845e"
  },
  {
   "cell_type": "markdown",
   "source": [
    "# Config\n",
    "\n",
    "For an explanation of the config fields, see CONFIG.md."
   ],
   "metadata": {},
   "id": "419866988e510a51"
  },
  {
   "cell_type": "code",
   "execution_count": null,
   "outputs": [],
   "source": [
    "config"
   ],
   "metadata": {},
   "id": "1baf8fa2179444a5"
  },
  {
   "cell_type": "code",
   "execution_count": null,
   "outputs": [],
   "source": [
    "agent_configs"
   ],
   "metadata": {},
   "id": "1114da333e2f29bd"
  },
  {
   "cell_type": "code",
   "execution_count": null,
   "outputs": [],
   "source": [
    "num_truthful_bidders = sum(agent['num_copies'] for agent in config['agents'] if agent['bidder']['type'] == 'TruthfulBidder')\n",
    "\n",
    "print(f\"Number of Truthful Bidders in the agents array: {num_truthful_bidders}\")"
   ],
   "metadata": {},
   "id": "29be56186c6c719b"
  },
  {
   "cell_type": "code",
   "execution_count": null,
   "outputs": [],
   "source": [
    "agents = instantiate_agents(rng, agent_configs, agents2item_values, agents2items)\n",
    "\n",
    "auction, num_iter, rounds_per_iter, output_dir =\\\n",
    "    instantiate_auction(rng,\n",
    "                        config,\n",
    "                        agents2items,\n",
    "                        agents2item_values,\n",
    "                        agents,\n",
    "                        max_slots,\n",
    "                        embedding_size,\n",
    "                        embedding_var,\n",
    "                        obs_embedding_size)\n",
    "config"
   ],
   "metadata": {},
   "id": "c310b27d5f79d311"
  },
  {
   "cell_type": "code",
   "execution_count": null,
   "outputs": [],
   "source": [
    "# Let's decrease rounds_per_iter for now b/c we just want to test things out.\n",
    "# Using a lower rounds_per_iter just means that the runs will take less time.\n",
    "rounds_per_iter = 100"
   ],
   "metadata": {},
   "id": "c409679f58d0d683"
  },
  {
   "cell_type": "code",
   "execution_count": null,
   "outputs": [],
   "source": [
    "for _ in range(rounds_per_iter):\n",
    "    auction.simulate_opportunity()"
   ],
   "metadata": {},
   "id": "fab090669d63531a"
  },
  {
   "cell_type": "code",
   "execution_count": null,
   "outputs": [],
   "source": [
    "agents[0].net_utility"
   ],
   "metadata": {},
   "id": "fb751d25e4d145b"
  },
  {
   "cell_type": "code",
   "execution_count": null,
   "outputs": [],
   "source": [
    "from ad_auction import ad_auction"
   ],
   "metadata": {},
   "id": "e97e72afaeb7a515"
  },
  {
   "cell_type": "code",
   "execution_count": null,
   "outputs": [],
   "source": [
    "ad_auction(\"config.json\")"
   ],
   "metadata": {},
   "id": "d3c282cdeff4ce84"
  }
 ],
 "metadata": {
  "language_info": {
   "name": "python",
   "pygments_lexer": "ipython3"
  }
 },
 "nbformat": 4,
 "nbformat_minor": 5
}
