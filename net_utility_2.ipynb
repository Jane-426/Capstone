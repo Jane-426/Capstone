{
 "cells": [
  {
   "cell_type": "code",
   "execution_count": null,
   "id": "initial_id",
   "metadata": {},
   "outputs": [],
   "source": [
    "import sys\n",
    "import matplotlib.pyplot as plt\n",
    "import numpy as np\n",
    "from collections import defaultdict\n",
    "\n",
    "\n",
    "def add(path):\n",
    "    if path not in sys.path:\n",
    "        sys.path.append(path)\n",
    "add(\"/Users/yuchenji/PycharmProjects/auction-gym/src\")\n",
    "\n",
    "\n",
    "from main import parse_config, instantiate_agents, instantiate_auction\n",
    "import ad_auction\n",
    "%load_ext autoreload\n",
    "%autoreload 1\n",
    "%aimport ad_auction"
   ]
  },
  {
   "cell_type": "code",
   "execution_count": null,
   "id": "de10b4a248fc6980",
   "metadata": {},
   "outputs": [],
   "source": [
    "ad_auction.ad_auction(\"config.json\")"
   ]
  },
  {
   "cell_type": "code",
   "execution_count": null,
   "id": "c23015d4ae43845e",
   "metadata": {},
   "outputs": [],
   "source": [
    "# Parse configuration file\n",
    "rng, config, agent_configs, agents2items, agents2item_values,\\\n",
    "num_runs, max_slots, embedding_size, embedding_var,\\\n",
    "obs_embedding_size = parse_config('config.json')"
   ]
  },
  {
   "cell_type": "markdown",
   "id": "419866988e510a51",
   "metadata": {},
   "source": [
    "# Config\n",
    "\n",
    "For an explanation of the config fields, see CONFIG.md."
   ]
  },
  {
   "cell_type": "code",
   "execution_count": null,
   "id": "1baf8fa2179444a5",
   "metadata": {},
   "outputs": [],
   "source": [
    "config"
   ]
  },
  {
   "cell_type": "code",
   "execution_count": null,
   "id": "1114da333e2f29bd",
   "metadata": {},
   "outputs": [],
   "source": [
    "agent_configs"
   ]
  },
  {
   "cell_type": "code",
   "execution_count": null,
   "id": "29be56186c6c719b",
   "metadata": {},
   "outputs": [],
   "source": [
    "num_truthful_bidders = sum(agent['num_copies'] for agent in config['agents'] if agent['bidder']['type'] == 'TruthfulBidder')\n",
    "\n",
    "print(f\"Number of Truthful Bidders in the agents array: {num_truthful_bidders}\")"
   ]
  },
  {
   "cell_type": "code",
   "execution_count": null,
   "id": "c310b27d5f79d311",
   "metadata": {},
   "outputs": [],
   "source": [
    "agents = instantiate_agents(rng, agent_configs, agents2item_values, agents2items)\n",
    "\n",
    "auction, num_iter, rounds_per_iter, output_dir =\\\n",
    "    instantiate_auction(rng,\n",
    "                        config,\n",
    "                        agents2items,\n",
    "                        agents2item_values,\n",
    "                        agents,\n",
    "                        max_slots,\n",
    "                        embedding_size,\n",
    "                        embedding_var,\n",
    "                        obs_embedding_size)\n",
    "config"
   ]
  },
  {
   "cell_type": "code",
   "execution_count": null,
   "id": "c409679f58d0d683",
   "metadata": {},
   "outputs": [],
   "source": [
    "# Let's decrease rounds_per_iter for now b/c we just want to test things out.\n",
    "# Using a lower rounds_per_iter just means that the runs will take less time.\n",
    "rounds_per_iter = 100"
   ]
  },
  {
   "cell_type": "code",
   "execution_count": null,
   "id": "fab090669d63531a",
   "metadata": {},
   "outputs": [],
   "source": [
    "for _ in range(rounds_per_iter):\n",
    "    auction.simulate_opportunity()"
   ]
  },
  {
   "cell_type": "code",
   "execution_count": null,
   "id": "fb751d25e4d145b",
   "metadata": {},
   "outputs": [],
   "source": [
    "agents[0].net_utility"
   ]
  },
  {
   "cell_type": "code",
   "execution_count": null,
   "id": "e97e72afaeb7a515",
   "metadata": {},
   "outputs": [],
   "source": [
    "from ad_auction import ad_auction"
   ]
  },
  {
   "cell_type": "code",
   "execution_count": null,
   "id": "d3c282cdeff4ce84",
   "metadata": {},
   "outputs": [],
   "source": [
    "ad_auction(\"config.json\")"
   ]
  }
 ],
 "metadata": {
  "language_info": {
   "name": "python",
   "pygments_lexer": "ipython3"
  }
 },
 "nbformat": 4,
 "nbformat_minor": 5
}
