{
 "cells": [
  {
   "cell_type": "code",
   "execution_count": null,
   "id": "334adb02",
   "metadata": {},
   "outputs": [],
   "source": [
    "import sys\n",
    "import os\n",
    "import matplotlib.pyplot as plt\n",
    "import numpy as np\n",
    "from collections import defaultdict\n",
    "\n",
    "def custom_breakpointhook(*args, **kwargs):\n",
    "    from IPython.core.debugger import set_trace; set_trace(*args, **kwargs)\n",
    "sys.breakpointhook = custom_breakpointhook"
   ]
  },
  {
   "cell_type": "code",
   "execution_count": null,
   "id": "e129e7fe",
   "metadata": {},
   "outputs": [],
   "source": [
    "def add(path):\n",
    "    if path not in sys.path:\n",
    "        sys.path.append(path)\n",
    "        \n",
    "if os.environ['USER'] == \"dsweet2\":\n",
    "    add(\"/Users/dsweet2/Projects/yuchen/auction-gym/src\")\n",
    "else:\n",
    "    add(\"/Users/yuchenji/PycharmProjects/auction-gym/src\")"
   ]
  },
  {
   "cell_type": "code",
   "execution_count": null,
   "id": "1db733e5",
   "metadata": {},
   "outputs": [],
   "source": [
    "import my_functions\n",
    "from my_functions import run_experiment\n",
    "\n",
    "%load_ext autoreload\n",
    "%autoreload 1\n",
    "%aimport my_functions"
   ]
  },
  {
   "cell_type": "code",
   "execution_count": null,
   "id": "c1cfcb0f",
   "metadata": {},
   "outputs": [],
   "source": [
    "# Set global parameters of the experiment to small values\n",
    "#  just to get a test to run quickly.\n",
    "g_params = my_functions.g_params\n",
    "g_params['num_iterations'] = 3\n",
    "g_params['n_calls'] = 18\n",
    "g_params['num_reps'] = 1\n",
    "\n",
    "run_experiment(\"EI\")"
   ]
  },
  {
   "cell_type": "code",
   "execution_count": null,
   "id": "29a9ddfb",
   "metadata": {},
   "outputs": [],
   "source": [
    "# We've verified that it runs. Now, set the parameters back to the values you had\n",
    "#  (or, of course, set them to whatever you want).\n",
    "g_params['num_iterations'] = 1000\n",
    "g_params['n_calls'] = 84\n",
    "g_params['num_reps'] = 10"
   ]
  },
  {
   "cell_type": "code",
   "execution_count": null,
   "id": "928a504b",
   "metadata": {},
   "outputs": [],
   "source": [
    "# # Main experiment loop\n",
    "# acquisition_functions = ['LCB', 'EI', 'PI', 'gp_hedge']\n",
    "# results = {}\n",
    "\n",
    "# for acq_func in acquisition_functions:\n",
    "#     results[acq_func] = run_experiment(acq_func)\n",
    "\n",
    "# # Print the results\n",
    "# for acq_func, avg_advantage in results.items():\n",
    "#     print(f\"Acquisition Function: {acq_func}, Average Total Advantage: {avg_advantage}\")"
   ]
  }
 ],
 "metadata": {
  "language_info": {
   "name": "python",
   "pygments_lexer": "ipython3"
  }
 },
 "nbformat": 4,
 "nbformat_minor": 5
}
