{
 "cells": [
  {
   "cell_type": "code",
   "execution_count": 5,
   "outputs": [
    {
     "name": "stdout",
     "output_type": "stream",
     "text": [
      "Requirement already satisfied: jupyter in /Users/yuchenji/PycharmProjects/auction-gym/venv/lib/python3.9/site-packages (1.0.0)\r\n",
      "Requirement already satisfied: notebook in /Users/yuchenji/PycharmProjects/auction-gym/venv/lib/python3.9/site-packages (from jupyter) (7.0.6)\r\n",
      "Requirement already satisfied: qtconsole in /Users/yuchenji/PycharmProjects/auction-gym/venv/lib/python3.9/site-packages (from jupyter) (5.4.4)\r\n",
      "Requirement already satisfied: jupyter-console in /Users/yuchenji/PycharmProjects/auction-gym/venv/lib/python3.9/site-packages (from jupyter) (6.6.3)\r\n",
      "Requirement already satisfied: nbconvert in /Users/yuchenji/PycharmProjects/auction-gym/venv/lib/python3.9/site-packages (from jupyter) (7.9.2)\r\n",
      "Requirement already satisfied: ipykernel in /Users/yuchenji/PycharmProjects/auction-gym/venv/lib/python3.9/site-packages (from jupyter) (6.25.2)\r\n",
      "Requirement already satisfied: ipywidgets in /Users/yuchenji/PycharmProjects/auction-gym/venv/lib/python3.9/site-packages (from jupyter) (8.1.1)\r\n",
      "Requirement already satisfied: appnope in /Users/yuchenji/PycharmProjects/auction-gym/venv/lib/python3.9/site-packages (from ipykernel->jupyter) (0.1.3)\r\n",
      "Requirement already satisfied: comm>=0.1.1 in /Users/yuchenji/PycharmProjects/auction-gym/venv/lib/python3.9/site-packages (from ipykernel->jupyter) (0.1.4)\r\n",
      "Requirement already satisfied: debugpy>=1.6.5 in /Users/yuchenji/PycharmProjects/auction-gym/venv/lib/python3.9/site-packages (from ipykernel->jupyter) (1.8.0)\r\n",
      "Requirement already satisfied: ipython>=7.23.1 in /Users/yuchenji/PycharmProjects/auction-gym/venv/lib/python3.9/site-packages (from ipykernel->jupyter) (8.16.1)\r\n",
      "Requirement already satisfied: jupyter-client>=6.1.12 in /Users/yuchenji/PycharmProjects/auction-gym/venv/lib/python3.9/site-packages (from ipykernel->jupyter) (8.4.0)\r\n",
      "Requirement already satisfied: jupyter-core!=5.0.*,>=4.12 in /Users/yuchenji/PycharmProjects/auction-gym/venv/lib/python3.9/site-packages (from ipykernel->jupyter) (5.4.0)\r\n",
      "Requirement already satisfied: matplotlib-inline>=0.1 in /Users/yuchenji/PycharmProjects/auction-gym/venv/lib/python3.9/site-packages (from ipykernel->jupyter) (0.1.6)\r\n",
      "Requirement already satisfied: nest-asyncio in /Users/yuchenji/PycharmProjects/auction-gym/venv/lib/python3.9/site-packages (from ipykernel->jupyter) (1.5.8)\r\n",
      "Requirement already satisfied: packaging in /Users/yuchenji/PycharmProjects/auction-gym/venv/lib/python3.9/site-packages (from ipykernel->jupyter) (21.3)\r\n",
      "Requirement already satisfied: psutil in /Users/yuchenji/PycharmProjects/auction-gym/venv/lib/python3.9/site-packages (from ipykernel->jupyter) (5.9.6)\r\n",
      "Requirement already satisfied: pyzmq>=20 in /Users/yuchenji/PycharmProjects/auction-gym/venv/lib/python3.9/site-packages (from ipykernel->jupyter) (25.1.1)\r\n",
      "Requirement already satisfied: tornado>=6.1 in /Users/yuchenji/PycharmProjects/auction-gym/venv/lib/python3.9/site-packages (from ipykernel->jupyter) (6.3.3)\r\n",
      "Requirement already satisfied: traitlets>=5.4.0 in /Users/yuchenji/PycharmProjects/auction-gym/venv/lib/python3.9/site-packages (from ipykernel->jupyter) (5.11.2)\r\n",
      "Requirement already satisfied: widgetsnbextension~=4.0.9 in /Users/yuchenji/PycharmProjects/auction-gym/venv/lib/python3.9/site-packages (from ipywidgets->jupyter) (4.0.9)\r\n",
      "Requirement already satisfied: jupyterlab-widgets~=3.0.9 in /Users/yuchenji/PycharmProjects/auction-gym/venv/lib/python3.9/site-packages (from ipywidgets->jupyter) (3.0.9)\r\n",
      "Requirement already satisfied: prompt-toolkit>=3.0.30 in /Users/yuchenji/PycharmProjects/auction-gym/venv/lib/python3.9/site-packages (from jupyter-console->jupyter) (3.0.39)\r\n",
      "Requirement already satisfied: pygments in /Users/yuchenji/PycharmProjects/auction-gym/venv/lib/python3.9/site-packages (from jupyter-console->jupyter) (2.16.1)\r\n",
      "Requirement already satisfied: beautifulsoup4 in /Users/yuchenji/PycharmProjects/auction-gym/venv/lib/python3.9/site-packages (from nbconvert->jupyter) (4.12.2)\r\n",
      "Requirement already satisfied: bleach!=5.0.0 in /Users/yuchenji/PycharmProjects/auction-gym/venv/lib/python3.9/site-packages (from nbconvert->jupyter) (6.1.0)\r\n",
      "Requirement already satisfied: defusedxml in /Users/yuchenji/PycharmProjects/auction-gym/venv/lib/python3.9/site-packages (from nbconvert->jupyter) (0.7.1)\r\n",
      "Requirement already satisfied: importlib-metadata>=3.6 in /Users/yuchenji/PycharmProjects/auction-gym/venv/lib/python3.9/site-packages (from nbconvert->jupyter) (6.8.0)\r\n",
      "Requirement already satisfied: jinja2>=3.0 in /Users/yuchenji/PycharmProjects/auction-gym/venv/lib/python3.9/site-packages (from nbconvert->jupyter) (3.1.2)\r\n",
      "Requirement already satisfied: jupyterlab-pygments in /Users/yuchenji/PycharmProjects/auction-gym/venv/lib/python3.9/site-packages (from nbconvert->jupyter) (0.2.2)\r\n",
      "Requirement already satisfied: markupsafe>=2.0 in /Users/yuchenji/PycharmProjects/auction-gym/venv/lib/python3.9/site-packages (from nbconvert->jupyter) (2.1.3)\r\n",
      "Requirement already satisfied: mistune<4,>=2.0.3 in /Users/yuchenji/PycharmProjects/auction-gym/venv/lib/python3.9/site-packages (from nbconvert->jupyter) (3.0.2)\r\n",
      "Requirement already satisfied: nbclient>=0.5.0 in /Users/yuchenji/PycharmProjects/auction-gym/venv/lib/python3.9/site-packages (from nbconvert->jupyter) (0.8.0)\r\n",
      "Requirement already satisfied: nbformat>=5.7 in /Users/yuchenji/PycharmProjects/auction-gym/venv/lib/python3.9/site-packages (from nbconvert->jupyter) (5.9.2)\r\n",
      "Requirement already satisfied: pandocfilters>=1.4.1 in /Users/yuchenji/PycharmProjects/auction-gym/venv/lib/python3.9/site-packages (from nbconvert->jupyter) (1.5.0)\r\n",
      "Requirement already satisfied: tinycss2 in /Users/yuchenji/PycharmProjects/auction-gym/venv/lib/python3.9/site-packages (from nbconvert->jupyter) (1.2.1)\r\n",
      "Requirement already satisfied: jupyter-server<3,>=2.4.0 in /Users/yuchenji/PycharmProjects/auction-gym/venv/lib/python3.9/site-packages (from notebook->jupyter) (2.8.0)\r\n",
      "Requirement already satisfied: jupyterlab-server<3,>=2.22.1 in /Users/yuchenji/PycharmProjects/auction-gym/venv/lib/python3.9/site-packages (from notebook->jupyter) (2.25.0)\r\n",
      "Requirement already satisfied: jupyterlab<5,>=4.0.2 in /Users/yuchenji/PycharmProjects/auction-gym/venv/lib/python3.9/site-packages (from notebook->jupyter) (4.0.7)\r\n",
      "Requirement already satisfied: notebook-shim<0.3,>=0.2 in /Users/yuchenji/PycharmProjects/auction-gym/venv/lib/python3.9/site-packages (from notebook->jupyter) (0.2.3)\r\n",
      "Requirement already satisfied: ipython-genutils in /Users/yuchenji/PycharmProjects/auction-gym/venv/lib/python3.9/site-packages (from qtconsole->jupyter) (0.2.0)\r\n",
      "Requirement already satisfied: qtpy>=2.4.0 in /Users/yuchenji/PycharmProjects/auction-gym/venv/lib/python3.9/site-packages (from qtconsole->jupyter) (2.4.0)\r\n",
      "Requirement already satisfied: six>=1.9.0 in /Users/yuchenji/PycharmProjects/auction-gym/venv/lib/python3.9/site-packages (from bleach!=5.0.0->nbconvert->jupyter) (1.16.0)\r\n",
      "Requirement already satisfied: webencodings in /Users/yuchenji/PycharmProjects/auction-gym/venv/lib/python3.9/site-packages (from bleach!=5.0.0->nbconvert->jupyter) (0.5.1)\r\n",
      "Requirement already satisfied: zipp>=0.5 in /Users/yuchenji/PycharmProjects/auction-gym/venv/lib/python3.9/site-packages (from importlib-metadata>=3.6->nbconvert->jupyter) (3.17.0)\r\n",
      "Requirement already satisfied: backcall in /Users/yuchenji/PycharmProjects/auction-gym/venv/lib/python3.9/site-packages (from ipython>=7.23.1->ipykernel->jupyter) (0.2.0)\r\n",
      "Requirement already satisfied: decorator in /Users/yuchenji/PycharmProjects/auction-gym/venv/lib/python3.9/site-packages (from ipython>=7.23.1->ipykernel->jupyter) (5.1.1)\r\n",
      "Requirement already satisfied: jedi>=0.16 in /Users/yuchenji/PycharmProjects/auction-gym/venv/lib/python3.9/site-packages (from ipython>=7.23.1->ipykernel->jupyter) (0.19.1)\r\n",
      "Requirement already satisfied: pickleshare in /Users/yuchenji/PycharmProjects/auction-gym/venv/lib/python3.9/site-packages (from ipython>=7.23.1->ipykernel->jupyter) (0.7.5)\r\n",
      "Requirement already satisfied: stack-data in /Users/yuchenji/PycharmProjects/auction-gym/venv/lib/python3.9/site-packages (from ipython>=7.23.1->ipykernel->jupyter) (0.6.3)\r\n",
      "Requirement already satisfied: typing-extensions in /Users/yuchenji/PycharmProjects/auction-gym/venv/lib/python3.9/site-packages (from ipython>=7.23.1->ipykernel->jupyter) (4.2.0)\r\n",
      "Requirement already satisfied: exceptiongroup in /Users/yuchenji/PycharmProjects/auction-gym/venv/lib/python3.9/site-packages (from ipython>=7.23.1->ipykernel->jupyter) (1.1.3)\r\n",
      "Requirement already satisfied: pexpect>4.3 in /Users/yuchenji/PycharmProjects/auction-gym/venv/lib/python3.9/site-packages (from ipython>=7.23.1->ipykernel->jupyter) (4.8.0)\r\n",
      "Requirement already satisfied: python-dateutil>=2.8.2 in /Users/yuchenji/PycharmProjects/auction-gym/venv/lib/python3.9/site-packages (from jupyter-client>=6.1.12->ipykernel->jupyter) (2.8.2)\r\n",
      "Requirement already satisfied: platformdirs>=2.5 in /Users/yuchenji/PycharmProjects/auction-gym/venv/lib/python3.9/site-packages (from jupyter-core!=5.0.*,>=4.12->ipykernel->jupyter) (3.11.0)\r\n",
      "Requirement already satisfied: anyio>=3.1.0 in /Users/yuchenji/PycharmProjects/auction-gym/venv/lib/python3.9/site-packages (from jupyter-server<3,>=2.4.0->notebook->jupyter) (4.0.0)\r\n",
      "Requirement already satisfied: argon2-cffi in /Users/yuchenji/PycharmProjects/auction-gym/venv/lib/python3.9/site-packages (from jupyter-server<3,>=2.4.0->notebook->jupyter) (23.1.0)\r\n",
      "Requirement already satisfied: jupyter-events>=0.6.0 in /Users/yuchenji/PycharmProjects/auction-gym/venv/lib/python3.9/site-packages (from jupyter-server<3,>=2.4.0->notebook->jupyter) (0.8.0)\r\n",
      "Requirement already satisfied: jupyter-server-terminals in /Users/yuchenji/PycharmProjects/auction-gym/venv/lib/python3.9/site-packages (from jupyter-server<3,>=2.4.0->notebook->jupyter) (0.4.4)\r\n",
      "Requirement already satisfied: overrides in /Users/yuchenji/PycharmProjects/auction-gym/venv/lib/python3.9/site-packages (from jupyter-server<3,>=2.4.0->notebook->jupyter) (7.4.0)\r\n",
      "Requirement already satisfied: prometheus-client in /Users/yuchenji/PycharmProjects/auction-gym/venv/lib/python3.9/site-packages (from jupyter-server<3,>=2.4.0->notebook->jupyter) (0.17.1)\r\n",
      "Requirement already satisfied: send2trash>=1.8.2 in /Users/yuchenji/PycharmProjects/auction-gym/venv/lib/python3.9/site-packages (from jupyter-server<3,>=2.4.0->notebook->jupyter) (1.8.2)\r\n",
      "Requirement already satisfied: terminado>=0.8.3 in /Users/yuchenji/PycharmProjects/auction-gym/venv/lib/python3.9/site-packages (from jupyter-server<3,>=2.4.0->notebook->jupyter) (0.17.1)\r\n",
      "Requirement already satisfied: websocket-client in /Users/yuchenji/PycharmProjects/auction-gym/venv/lib/python3.9/site-packages (from jupyter-server<3,>=2.4.0->notebook->jupyter) (1.6.4)\r\n",
      "Requirement already satisfied: async-lru>=1.0.0 in /Users/yuchenji/PycharmProjects/auction-gym/venv/lib/python3.9/site-packages (from jupyterlab<5,>=4.0.2->notebook->jupyter) (2.0.4)\r\n",
      "Requirement already satisfied: jupyter-lsp>=2.0.0 in /Users/yuchenji/PycharmProjects/auction-gym/venv/lib/python3.9/site-packages (from jupyterlab<5,>=4.0.2->notebook->jupyter) (2.2.0)\r\n",
      "Requirement already satisfied: tomli in /Users/yuchenji/PycharmProjects/auction-gym/venv/lib/python3.9/site-packages (from jupyterlab<5,>=4.0.2->notebook->jupyter) (2.0.1)\r\n",
      "Requirement already satisfied: babel>=2.10 in /Users/yuchenji/PycharmProjects/auction-gym/venv/lib/python3.9/site-packages (from jupyterlab-server<3,>=2.22.1->notebook->jupyter) (2.13.0)\r\n",
      "Requirement already satisfied: json5>=0.9.0 in /Users/yuchenji/PycharmProjects/auction-gym/venv/lib/python3.9/site-packages (from jupyterlab-server<3,>=2.22.1->notebook->jupyter) (0.9.14)\r\n",
      "Requirement already satisfied: jsonschema>=4.18.0 in /Users/yuchenji/PycharmProjects/auction-gym/venv/lib/python3.9/site-packages (from jupyterlab-server<3,>=2.22.1->notebook->jupyter) (4.19.1)\r\n",
      "Requirement already satisfied: requests>=2.31 in /Users/yuchenji/PycharmProjects/auction-gym/venv/lib/python3.9/site-packages (from jupyterlab-server<3,>=2.22.1->notebook->jupyter) (2.31.0)\r\n",
      "Requirement already satisfied: fastjsonschema in /Users/yuchenji/PycharmProjects/auction-gym/venv/lib/python3.9/site-packages (from nbformat>=5.7->nbconvert->jupyter) (2.18.1)\r\n",
      "Requirement already satisfied: pyparsing!=3.0.5,>=2.0.2 in /Users/yuchenji/PycharmProjects/auction-gym/venv/lib/python3.9/site-packages (from packaging->ipykernel->jupyter) (3.0.8)\r\n",
      "Requirement already satisfied: wcwidth in /Users/yuchenji/PycharmProjects/auction-gym/venv/lib/python3.9/site-packages (from prompt-toolkit>=3.0.30->jupyter-console->jupyter) (0.2.8)\r\n",
      "Requirement already satisfied: soupsieve>1.2 in /Users/yuchenji/PycharmProjects/auction-gym/venv/lib/python3.9/site-packages (from beautifulsoup4->nbconvert->jupyter) (2.5)\r\n",
      "Requirement already satisfied: idna>=2.8 in /Users/yuchenji/PycharmProjects/auction-gym/venv/lib/python3.9/site-packages (from anyio>=3.1.0->jupyter-server<3,>=2.4.0->notebook->jupyter) (3.4)\r\n",
      "Requirement already satisfied: sniffio>=1.1 in /Users/yuchenji/PycharmProjects/auction-gym/venv/lib/python3.9/site-packages (from anyio>=3.1.0->jupyter-server<3,>=2.4.0->notebook->jupyter) (1.3.0)\r\n",
      "Requirement already satisfied: parso<0.9.0,>=0.8.3 in /Users/yuchenji/PycharmProjects/auction-gym/venv/lib/python3.9/site-packages (from jedi>=0.16->ipython>=7.23.1->ipykernel->jupyter) (0.8.3)\r\n",
      "Requirement already satisfied: attrs>=22.2.0 in /Users/yuchenji/PycharmProjects/auction-gym/venv/lib/python3.9/site-packages (from jsonschema>=4.18.0->jupyterlab-server<3,>=2.22.1->notebook->jupyter) (23.1.0)\r\n",
      "Requirement already satisfied: jsonschema-specifications>=2023.03.6 in /Users/yuchenji/PycharmProjects/auction-gym/venv/lib/python3.9/site-packages (from jsonschema>=4.18.0->jupyterlab-server<3,>=2.22.1->notebook->jupyter) (2023.7.1)\r\n",
      "Requirement already satisfied: referencing>=0.28.4 in /Users/yuchenji/PycharmProjects/auction-gym/venv/lib/python3.9/site-packages (from jsonschema>=4.18.0->jupyterlab-server<3,>=2.22.1->notebook->jupyter) (0.30.2)\r\n",
      "Requirement already satisfied: rpds-py>=0.7.1 in /Users/yuchenji/PycharmProjects/auction-gym/venv/lib/python3.9/site-packages (from jsonschema>=4.18.0->jupyterlab-server<3,>=2.22.1->notebook->jupyter) (0.10.6)\r\n",
      "Requirement already satisfied: python-json-logger>=2.0.4 in /Users/yuchenji/PycharmProjects/auction-gym/venv/lib/python3.9/site-packages (from jupyter-events>=0.6.0->jupyter-server<3,>=2.4.0->notebook->jupyter) (2.0.7)\r\n",
      "Requirement already satisfied: pyyaml>=5.3 in /Users/yuchenji/PycharmProjects/auction-gym/venv/lib/python3.9/site-packages (from jupyter-events>=0.6.0->jupyter-server<3,>=2.4.0->notebook->jupyter) (6.0.1)\r\n",
      "Requirement already satisfied: rfc3339-validator in /Users/yuchenji/PycharmProjects/auction-gym/venv/lib/python3.9/site-packages (from jupyter-events>=0.6.0->jupyter-server<3,>=2.4.0->notebook->jupyter) (0.1.4)\r\n",
      "Requirement already satisfied: rfc3986-validator>=0.1.1 in /Users/yuchenji/PycharmProjects/auction-gym/venv/lib/python3.9/site-packages (from jupyter-events>=0.6.0->jupyter-server<3,>=2.4.0->notebook->jupyter) (0.1.1)\r\n",
      "Requirement already satisfied: ptyprocess>=0.5 in /Users/yuchenji/PycharmProjects/auction-gym/venv/lib/python3.9/site-packages (from pexpect>4.3->ipython>=7.23.1->ipykernel->jupyter) (0.7.0)\r\n",
      "Requirement already satisfied: charset-normalizer<4,>=2 in /Users/yuchenji/PycharmProjects/auction-gym/venv/lib/python3.9/site-packages (from requests>=2.31->jupyterlab-server<3,>=2.22.1->notebook->jupyter) (3.3.1)\r\n",
      "Requirement already satisfied: urllib3<3,>=1.21.1 in /Users/yuchenji/PycharmProjects/auction-gym/venv/lib/python3.9/site-packages (from requests>=2.31->jupyterlab-server<3,>=2.22.1->notebook->jupyter) (2.0.7)\r\n",
      "Requirement already satisfied: certifi>=2017.4.17 in /Users/yuchenji/PycharmProjects/auction-gym/venv/lib/python3.9/site-packages (from requests>=2.31->jupyterlab-server<3,>=2.22.1->notebook->jupyter) (2023.7.22)\r\n",
      "Requirement already satisfied: argon2-cffi-bindings in /Users/yuchenji/PycharmProjects/auction-gym/venv/lib/python3.9/site-packages (from argon2-cffi->jupyter-server<3,>=2.4.0->notebook->jupyter) (21.2.0)\r\n",
      "Requirement already satisfied: executing>=1.2.0 in /Users/yuchenji/PycharmProjects/auction-gym/venv/lib/python3.9/site-packages (from stack-data->ipython>=7.23.1->ipykernel->jupyter) (2.0.0)\r\n",
      "Requirement already satisfied: asttokens>=2.1.0 in /Users/yuchenji/PycharmProjects/auction-gym/venv/lib/python3.9/site-packages (from stack-data->ipython>=7.23.1->ipykernel->jupyter) (2.4.0)\r\n",
      "Requirement already satisfied: pure-eval in /Users/yuchenji/PycharmProjects/auction-gym/venv/lib/python3.9/site-packages (from stack-data->ipython>=7.23.1->ipykernel->jupyter) (0.2.2)\r\n",
      "Requirement already satisfied: fqdn in /Users/yuchenji/PycharmProjects/auction-gym/venv/lib/python3.9/site-packages (from jsonschema[format-nongpl]>=4.18.0->jupyter-events>=0.6.0->jupyter-server<3,>=2.4.0->notebook->jupyter) (1.5.1)\r\n",
      "Requirement already satisfied: isoduration in /Users/yuchenji/PycharmProjects/auction-gym/venv/lib/python3.9/site-packages (from jsonschema[format-nongpl]>=4.18.0->jupyter-events>=0.6.0->jupyter-server<3,>=2.4.0->notebook->jupyter) (20.11.0)\r\n",
      "Requirement already satisfied: jsonpointer>1.13 in /Users/yuchenji/PycharmProjects/auction-gym/venv/lib/python3.9/site-packages (from jsonschema[format-nongpl]>=4.18.0->jupyter-events>=0.6.0->jupyter-server<3,>=2.4.0->notebook->jupyter) (2.4)\r\n",
      "Requirement already satisfied: uri-template in /Users/yuchenji/PycharmProjects/auction-gym/venv/lib/python3.9/site-packages (from jsonschema[format-nongpl]>=4.18.0->jupyter-events>=0.6.0->jupyter-server<3,>=2.4.0->notebook->jupyter) (1.3.0)\r\n",
      "Requirement already satisfied: webcolors>=1.11 in /Users/yuchenji/PycharmProjects/auction-gym/venv/lib/python3.9/site-packages (from jsonschema[format-nongpl]>=4.18.0->jupyter-events>=0.6.0->jupyter-server<3,>=2.4.0->notebook->jupyter) (1.13)\r\n",
      "Requirement already satisfied: cffi>=1.0.1 in /Users/yuchenji/PycharmProjects/auction-gym/venv/lib/python3.9/site-packages (from argon2-cffi-bindings->argon2-cffi->jupyter-server<3,>=2.4.0->notebook->jupyter) (1.16.0)\r\n",
      "Requirement already satisfied: pycparser in /Users/yuchenji/PycharmProjects/auction-gym/venv/lib/python3.9/site-packages (from cffi>=1.0.1->argon2-cffi-bindings->argon2-cffi->jupyter-server<3,>=2.4.0->notebook->jupyter) (2.21)\r\n",
      "Requirement already satisfied: arrow>=0.15.0 in /Users/yuchenji/PycharmProjects/auction-gym/venv/lib/python3.9/site-packages (from isoduration->jsonschema[format-nongpl]>=4.18.0->jupyter-events>=0.6.0->jupyter-server<3,>=2.4.0->notebook->jupyter) (1.3.0)\r\n",
      "Requirement already satisfied: types-python-dateutil>=2.8.10 in /Users/yuchenji/PycharmProjects/auction-gym/venv/lib/python3.9/site-packages (from arrow>=0.15.0->isoduration->jsonschema[format-nongpl]>=4.18.0->jupyter-events>=0.6.0->jupyter-server<3,>=2.4.0->notebook->jupyter) (2.8.19.14)\r\n"
     ]
    }
   ],
   "source": [
    "! pip install jupyter"
   ],
   "metadata": {
    "collapsed": false,
    "ExecuteTime": {
     "end_time": "2023-11-11T15:48:07.732124Z",
     "start_time": "2023-11-11T15:48:06.453812Z"
    }
   },
   "id": "663774f2f15e2229"
  },
  {
   "cell_type": "code",
   "execution_count": 7,
   "outputs": [],
   "source": [
    "import matplotlib.pyplot as plt\n",
    "import numpy as np\n",
    "from collections import defaultdict\n",
    "from main import parse_config, instantiate_agents, instantiate_auction"
   ],
   "metadata": {
    "collapsed": false,
    "ExecuteTime": {
     "end_time": "2023-11-11T15:48:28.039483Z",
     "start_time": "2023-11-11T15:48:25.679688Z"
    }
   },
   "id": "4ef0645c"
  },
  {
   "cell_type": "code",
   "execution_count": 8,
   "outputs": [],
   "source": [
    "# Parse configuration file\n",
    "config_path = '/Users/yuchenji/PycharmProjects/Capstone/config.json'\n",
    "rng, config, agent_configs, agents2items, agents2item_values, \\\n",
    "num_runs, max_slots, embedding_size, embedding_var, \\\n",
    "obs_embedding_size = parse_config(config_path)"
   ],
   "metadata": {
    "collapsed": false,
    "ExecuteTime": {
     "end_time": "2023-11-11T15:48:34.335115Z",
     "start_time": "2023-11-11T15:48:34.327839Z"
    }
   },
   "id": "981d12dd3754c6cd"
  },
  {
   "cell_type": "markdown",
   "id": "444da1a7",
   "metadata": {},
   "source": [
    "# Config\n",
    "\n",
    "For an explanation of the config fields, see [CONFIG.md](https://github.com/amzn/auction-gym/blob/065f8bf325ebbec9c96631625ef1c36df3870cb3/CONFIG.md?plain=1#L30)."
   ]
  },
  {
   "cell_type": "code",
   "execution_count": 27,
   "id": "f77e558e",
   "metadata": {
    "ExecuteTime": {
     "end_time": "2023-11-11T16:25:18.732559Z",
     "start_time": "2023-11-11T16:25:18.727924Z"
    }
   },
   "outputs": [
    {
     "data": {
      "text/plain": "{'random_seed': 0,\n 'num_runs': 3,\n 'num_iter': 20,\n 'rounds_per_iter': 10000,\n 'num_participants_per_round': 2,\n 'embedding_size': 5,\n 'embedding_var': 1.0,\n 'obs_embedding_size': 4,\n 'allocation': 'SecondPrice',\n 'agents': [{'name': 'Truthful Oracle 1',\n   'num_copies': 1,\n   'num_items': 12,\n   'allocator': {'type': 'OracleAllocator', 'kwargs': {}},\n   'bidder': {'type': 'TruthfulBidder', 'kwargs': {}}},\n  {'name': 'Truthful Oracle 2',\n   'num_copies': 6,\n   'num_items': 12,\n   'allocator': {'type': 'OracleAllocator', 'kwargs': {}},\n   'bidder': {'type': 'TruthfulBidder', 'kwargs': {}}}],\n 'output_dir': 'results/SP_Oracle/'}"
     },
     "execution_count": 27,
     "metadata": {},
     "output_type": "execute_result"
    }
   ],
   "source": [
    "config"
   ]
  },
  {
   "cell_type": "code",
   "execution_count": 26,
   "outputs": [
    {
     "data": {
      "text/plain": "[{'name': 'Truthful Oracle 1',\n  'num_copies': 1,\n  'num_items': 12,\n  'allocator': {'type': 'OracleAllocator', 'kwargs': {}},\n  'bidder': {'type': 'TruthfulBidder', 'kwargs': {}}},\n {'name': 'Truthful Oracle 2',\n  'num_copies': 6,\n  'num_items': 12,\n  'allocator': {'type': 'OracleAllocator', 'kwargs': {}},\n  'bidder': {'type': 'TruthfulBidder', 'kwargs': {}}},\n {'name': 'Truthful Oracle 3',\n  'num_copies': 6,\n  'num_items': 12,\n  'allocator': {'type': 'OracleAllocator', 'kwargs': {}},\n  'bidder': {'type': 'TruthfulBidder', 'kwargs': {}}},\n {'name': 'Truthful Oracle 4',\n  'num_copies': 6,\n  'num_items': 12,\n  'allocator': {'type': 'OracleAllocator', 'kwargs': {}},\n  'bidder': {'type': 'TruthfulBidder', 'kwargs': {}}},\n {'name': 'Truthful Oracle 5',\n  'num_copies': 6,\n  'num_items': 12,\n  'allocator': {'type': 'OracleAllocator', 'kwargs': {}},\n  'bidder': {'type': 'TruthfulBidder', 'kwargs': {}}},\n {'name': 'Truthful Oracle 6',\n  'num_copies': 6,\n  'num_items': 12,\n  'allocator': {'type': 'OracleAllocator', 'kwargs': {}},\n  'bidder': {'type': 'TruthfulBidder', 'kwargs': {}}},\n {'name': 'Truthful Oracle 7',\n  'num_copies': 6,\n  'num_items': 12,\n  'allocator': {'type': 'OracleAllocator', 'kwargs': {}},\n  'bidder': {'type': 'TruthfulBidder', 'kwargs': {}}}]"
     },
     "execution_count": 26,
     "metadata": {},
     "output_type": "execute_result"
    }
   ],
   "source": [
    "agent_configs"
   ],
   "metadata": {
    "collapsed": false,
    "ExecuteTime": {
     "end_time": "2023-11-11T16:25:10.859632Z",
     "start_time": "2023-11-11T16:25:10.848558Z"
    }
   },
   "id": "f9c92dcf"
  },
  {
   "cell_type": "code",
   "execution_count": 14,
   "outputs": [
    {
     "name": "stdout",
     "output_type": "stream",
     "text": [
      "Number of Truthful Bidders in the agents array: 7\n"
     ]
    }
   ],
   "source": [
    "num_truthful_bidders = sum(agent['num_copies'] for agent in config['agents'] if agent['bidder']['type'] == 'TruthfulBidder')\n",
    "\n",
    "print(f\"Number of Truthful Bidders in the agents array: {num_truthful_bidders}\")\n"
   ],
   "metadata": {
    "collapsed": false,
    "ExecuteTime": {
     "end_time": "2023-11-11T16:07:34.796584Z",
     "start_time": "2023-11-11T16:07:34.792951Z"
    }
   },
   "id": "33991296fd95856f"
  },
  {
   "cell_type": "code",
   "execution_count": 18,
   "outputs": [
    {
     "name": "stdout",
     "output_type": "stream",
     "text": [
      "[{'name': 'Truthful Oracle', 'num_copies': 1, 'num_items': 12, 'allocator': {'type': 'OracleAllocator', 'kwargs': {}}, 'bidder': {'type': 'TruthfulBidder', 'kwargs': {}}}, {'name': 'Truthful Oracle', 'num_copies': 6, 'num_items': 12, 'allocator': {'type': 'OracleAllocator', 'kwargs': {}}, 'bidder': {'type': 'TruthfulBidder', 'kwargs': {}}}]\n"
     ]
    }
   ],
   "source": [
    "print(config['agents'])"
   ],
   "metadata": {
    "collapsed": false,
    "ExecuteTime": {
     "end_time": "2023-11-11T16:19:12.392581Z",
     "start_time": "2023-11-11T16:19:12.390209Z"
    }
   },
   "id": "a2975185ad44c903"
  },
  {
   "cell_type": "code",
   "execution_count": 20,
   "outputs": [
    {
     "name": "stdout",
     "output_type": "stream",
     "text": [
      "\n",
      "Updated agents array:\n",
      "[{'name': 'Truthful Oracle 1', 'num_copies': 1, 'num_items': 12, 'allocator': {'type': 'OracleAllocator', 'kwargs': {}}, 'bidder': {'type': 'TruthfulBidder', 'kwargs': {}}}, {'name': 'Truthful Oracle 2', 'num_copies': 6, 'num_items': 12, 'allocator': {'type': 'OracleAllocator', 'kwargs': {}}, 'bidder': {'type': 'TruthfulBidder', 'kwargs': {}}}]\n"
     ]
    }
   ],
   "source": [
    "# Update the names in the modified agents array\n",
    "config['agents'][0]['name'] = 'Truthful Oracle 1'\n",
    "config['agents'][1]['name'] = 'Truthful Oracle 2'"
   ],
   "metadata": {
    "collapsed": false,
    "ExecuteTime": {
     "end_time": "2023-11-11T16:23:08.003805Z",
     "start_time": "2023-11-11T16:23:07.993627Z"
    }
   },
   "id": "4478ac7ce3fe6025"
  },
  {
   "cell_type": "code",
   "execution_count": 25,
   "outputs": [
    {
     "data": {
      "text/plain": "{'random_seed': 0,\n 'num_runs': 3,\n 'num_iter': 20,\n 'rounds_per_iter': 10000,\n 'num_participants_per_round': 2,\n 'embedding_size': 5,\n 'embedding_var': 1.0,\n 'obs_embedding_size': 4,\n 'allocation': 'SecondPrice',\n 'agents': [{'name': 'Truthful Oracle 1',\n   'num_copies': 1,\n   'num_items': 12,\n   'allocator': {'type': 'OracleAllocator', 'kwargs': {}},\n   'bidder': {'type': 'TruthfulBidder', 'kwargs': {}}},\n  {'name': 'Truthful Oracle 2',\n   'num_copies': 6,\n   'num_items': 12,\n   'allocator': {'type': 'OracleAllocator', 'kwargs': {}},\n   'bidder': {'type': 'TruthfulBidder', 'kwargs': {}}}],\n 'output_dir': 'results/SP_Oracle/'}"
     },
     "execution_count": 25,
     "metadata": {},
     "output_type": "execute_result"
    }
   ],
   "source": [
    "# Re-instantiate agents with the modified configuration\n",
    "agents = instantiate_agents(rng, config['agents'], agents2item_values, agents2items)\n",
    "\n",
    "auction, num_iter, rounds_per_iter, output_dir = \\\n",
    "    instantiate_auction(rng,\n",
    "                        config,\n",
    "                        agents2items,\n",
    "                        agents2item_values,\n",
    "                        agents,\n",
    "                        max_slots,\n",
    "                        embedding_size,\n",
    "                        embedding_var,\n",
    "                        obs_embedding_size)\n",
    "config\n"
   ],
   "metadata": {
    "collapsed": false,
    "ExecuteTime": {
     "end_time": "2023-11-11T16:24:56.356232Z",
     "start_time": "2023-11-11T16:24:56.352006Z"
    }
   },
   "id": "76dd3a273574112b"
  },
  {
   "cell_type": "code",
   "execution_count": 22,
   "outputs": [],
   "source": [
    "# Let's decrease rounds_per_iter for now b/c we just want to test things out.\n",
    "# Using a lower rounds_per_iter just means that the runs will take less time.\n",
    "rounds_per_iter = 100"
   ],
   "metadata": {
    "collapsed": false,
    "ExecuteTime": {
     "start_time": "2023-11-11T16:24:02.927773Z"
    }
   },
   "id": "bc3476ba"
  },
  {
   "cell_type": "code",
   "execution_count": 23,
   "outputs": [],
   "source": [
    "for _ in range(rounds_per_iter):\n",
    "    auction.simulate_opportunity()"
   ],
   "metadata": {
    "collapsed": false,
    "ExecuteTime": {
     "start_time": "2023-11-11T16:24:04.915562Z"
    }
   },
   "id": "ba964ca6"
  },
  {
   "cell_type": "code",
   "execution_count": 24,
   "outputs": [
    {
     "data": {
      "text/plain": "8.688590512631539"
     },
     "execution_count": 24,
     "metadata": {},
     "output_type": "execute_result"
    }
   ],
   "source": [
    "agents[0].net_utility"
   ],
   "metadata": {
    "collapsed": false,
    "ExecuteTime": {
     "start_time": "2023-11-11T16:24:06.160516Z"
    }
   },
   "id": "b3f0ada6"
  },
  {
   "cell_type": "code",
   "execution_count": 61,
   "id": "738a5821",
   "metadata": {
    "ExecuteTime": {
     "end_time": "2023-11-13T20:42:39.143172Z",
     "start_time": "2023-11-13T20:42:39.082812Z"
    }
   },
   "outputs": [
    {
     "ename": "KeyError",
     "evalue": "'Truthful Oracle 1'",
     "output_type": "error",
     "traceback": [
      "\u001B[0;31m---------------------------------------------------------------------------\u001B[0m",
      "\u001B[0;31mKeyError\u001B[0m                                  Traceback (most recent call last)",
      "Cell \u001B[0;32mIn[61], line 7\u001B[0m\n\u001B[1;32m      4\u001B[0m config_path \u001B[38;5;241m=\u001B[39m \u001B[38;5;124m\"\u001B[39m\u001B[38;5;124m/Users/yuchenji/PycharmProjects/Capstone/config.json\u001B[39m\u001B[38;5;124m\"\u001B[39m\n\u001B[1;32m      6\u001B[0m \u001B[38;5;66;03m# Run the ad_auction function and get the net utility of the first agent\u001B[39;00m\n\u001B[0;32m----> 7\u001B[0m net_utility \u001B[38;5;241m=\u001B[39m \u001B[43mad_auction\u001B[49m\u001B[43m(\u001B[49m\u001B[43mconfig_path\u001B[49m\u001B[43m)\u001B[49m\n\u001B[1;32m      9\u001B[0m \u001B[38;5;66;03m# Print the net utility\u001B[39;00m\n\u001B[1;32m     10\u001B[0m \u001B[38;5;28mprint\u001B[39m(\u001B[38;5;124m\"\u001B[39m\u001B[38;5;124mNet Utility of the first agent:\u001B[39m\u001B[38;5;124m\"\u001B[39m, net_utility)\n",
      "File \u001B[0;32m~/PycharmProjects/auction-gym/src/ad_auction.py:16\u001B[0m, in \u001B[0;36mad_auction\u001B[0;34m(config_path)\u001B[0m\n\u001B[1;32m     13\u001B[0m config[\u001B[38;5;124m'\u001B[39m\u001B[38;5;124magents\u001B[39m\u001B[38;5;124m'\u001B[39m][\u001B[38;5;241m0\u001B[39m][\u001B[38;5;124m'\u001B[39m\u001B[38;5;124mnum_copies\u001B[39m\u001B[38;5;124m'\u001B[39m] \u001B[38;5;241m=\u001B[39m \u001B[38;5;241m1\u001B[39m\n\u001B[1;32m     15\u001B[0m \u001B[38;5;66;03m# Re-instantiate agents with the modified configuration\u001B[39;00m\n\u001B[0;32m---> 16\u001B[0m agents \u001B[38;5;241m=\u001B[39m \u001B[43minstantiate_agents\u001B[49m\u001B[43m(\u001B[49m\u001B[43mrng\u001B[49m\u001B[43m,\u001B[49m\u001B[43m \u001B[49m\u001B[43mconfig\u001B[49m\u001B[43m[\u001B[49m\u001B[38;5;124;43m'\u001B[39;49m\u001B[38;5;124;43magents\u001B[39;49m\u001B[38;5;124;43m'\u001B[39;49m\u001B[43m]\u001B[49m\u001B[43m,\u001B[49m\u001B[43m \u001B[49m\u001B[43magents2item_values\u001B[49m\u001B[43m,\u001B[49m\u001B[43m \u001B[49m\u001B[43magents2items\u001B[49m\u001B[43m)\u001B[49m\n\u001B[1;32m     18\u001B[0m auction, num_iter, rounds_per_iter, output_dir \u001B[38;5;241m=\u001B[39m \\\n\u001B[1;32m     19\u001B[0m     instantiate_auction(rng,\n\u001B[1;32m     20\u001B[0m                         config,\n\u001B[0;32m   (...)\u001B[0m\n\u001B[1;32m     26\u001B[0m                         embedding_var,\n\u001B[1;32m     27\u001B[0m                         obs_embedding_size)\n\u001B[1;32m     29\u001B[0m \u001B[38;5;66;03m# Run the auction\u001B[39;00m\n",
      "File \u001B[0;32m~/PycharmProjects/auction-gym/src/main.py:80\u001B[0m, in \u001B[0;36minstantiate_agents\u001B[0;34m(rng, agent_configs, agents2item_values, agents2items)\u001B[0m\n\u001B[1;32m     77\u001B[0m \u001B[38;5;28;01mdef\u001B[39;00m \u001B[38;5;21minstantiate_agents\u001B[39m(rng, agent_configs, agents2item_values, agents2items):\n\u001B[1;32m     78\u001B[0m     \u001B[38;5;66;03m# Store agents to be re-instantiated in subsequent runs\u001B[39;00m\n\u001B[1;32m     79\u001B[0m     \u001B[38;5;66;03m# Set up agents\u001B[39;00m\n\u001B[0;32m---> 80\u001B[0m     agents \u001B[38;5;241m=\u001B[39m [\n\u001B[1;32m     81\u001B[0m         Agent(rng\u001B[38;5;241m=\u001B[39mrng,\n\u001B[1;32m     82\u001B[0m               name\u001B[38;5;241m=\u001B[39magent_config[\u001B[38;5;124m'\u001B[39m\u001B[38;5;124mname\u001B[39m\u001B[38;5;124m'\u001B[39m],\n\u001B[1;32m     83\u001B[0m               num_items\u001B[38;5;241m=\u001B[39magent_config[\u001B[38;5;124m'\u001B[39m\u001B[38;5;124mnum_items\u001B[39m\u001B[38;5;124m'\u001B[39m],\n\u001B[1;32m     84\u001B[0m               item_values\u001B[38;5;241m=\u001B[39magents2item_values[agent_config[\u001B[38;5;124m'\u001B[39m\u001B[38;5;124mname\u001B[39m\u001B[38;5;124m'\u001B[39m]],\n\u001B[1;32m     85\u001B[0m               allocator\u001B[38;5;241m=\u001B[39m\u001B[38;5;28meval\u001B[39m(\u001B[38;5;124mf\u001B[39m\u001B[38;5;124m\"\u001B[39m\u001B[38;5;132;01m{\u001B[39;00magent_config[\u001B[38;5;124m'\u001B[39m\u001B[38;5;124mallocator\u001B[39m\u001B[38;5;124m'\u001B[39m][\u001B[38;5;124m'\u001B[39m\u001B[38;5;124mtype\u001B[39m\u001B[38;5;124m'\u001B[39m]\u001B[38;5;132;01m}\u001B[39;00m\u001B[38;5;124m(rng=rng\u001B[39m\u001B[38;5;132;01m{\u001B[39;00mparse_kwargs(agent_config[\u001B[38;5;124m'\u001B[39m\u001B[38;5;124mallocator\u001B[39m\u001B[38;5;124m'\u001B[39m][\u001B[38;5;124m'\u001B[39m\u001B[38;5;124mkwargs\u001B[39m\u001B[38;5;124m'\u001B[39m])\u001B[38;5;132;01m}\u001B[39;00m\u001B[38;5;124m)\u001B[39m\u001B[38;5;124m\"\u001B[39m),\n\u001B[1;32m     86\u001B[0m               bidder\u001B[38;5;241m=\u001B[39m\u001B[38;5;28meval\u001B[39m(\u001B[38;5;124mf\u001B[39m\u001B[38;5;124m\"\u001B[39m\u001B[38;5;132;01m{\u001B[39;00magent_config[\u001B[38;5;124m'\u001B[39m\u001B[38;5;124mbidder\u001B[39m\u001B[38;5;124m'\u001B[39m][\u001B[38;5;124m'\u001B[39m\u001B[38;5;124mtype\u001B[39m\u001B[38;5;124m'\u001B[39m]\u001B[38;5;132;01m}\u001B[39;00m\u001B[38;5;124m(rng=rng\u001B[39m\u001B[38;5;132;01m{\u001B[39;00mparse_kwargs(agent_config[\u001B[38;5;124m'\u001B[39m\u001B[38;5;124mbidder\u001B[39m\u001B[38;5;124m'\u001B[39m][\u001B[38;5;124m'\u001B[39m\u001B[38;5;124mkwargs\u001B[39m\u001B[38;5;124m'\u001B[39m])\u001B[38;5;132;01m}\u001B[39;00m\u001B[38;5;124m)\u001B[39m\u001B[38;5;124m\"\u001B[39m),\n\u001B[1;32m     87\u001B[0m               memory\u001B[38;5;241m=\u001B[39m(\u001B[38;5;241m0\u001B[39m \u001B[38;5;28;01mif\u001B[39;00m \u001B[38;5;124m'\u001B[39m\u001B[38;5;124mmemory\u001B[39m\u001B[38;5;124m'\u001B[39m \u001B[38;5;129;01mnot\u001B[39;00m \u001B[38;5;129;01min\u001B[39;00m agent_config\u001B[38;5;241m.\u001B[39mkeys() \u001B[38;5;28;01melse\u001B[39;00m agent_config[\u001B[38;5;124m'\u001B[39m\u001B[38;5;124mmemory\u001B[39m\u001B[38;5;124m'\u001B[39m]))\n\u001B[1;32m     88\u001B[0m         \u001B[38;5;28;01mfor\u001B[39;00m agent_config \u001B[38;5;129;01min\u001B[39;00m agent_configs\n\u001B[1;32m     89\u001B[0m     ]\n\u001B[1;32m     91\u001B[0m     \u001B[38;5;28;01mfor\u001B[39;00m agent \u001B[38;5;129;01min\u001B[39;00m agents:\n\u001B[1;32m     92\u001B[0m         \u001B[38;5;28;01mif\u001B[39;00m \u001B[38;5;28misinstance\u001B[39m(agent\u001B[38;5;241m.\u001B[39mallocator, OracleAllocator):\n",
      "File \u001B[0;32m~/PycharmProjects/auction-gym/src/main.py:84\u001B[0m, in \u001B[0;36m<listcomp>\u001B[0;34m(.0)\u001B[0m\n\u001B[1;32m     77\u001B[0m \u001B[38;5;28;01mdef\u001B[39;00m \u001B[38;5;21minstantiate_agents\u001B[39m(rng, agent_configs, agents2item_values, agents2items):\n\u001B[1;32m     78\u001B[0m     \u001B[38;5;66;03m# Store agents to be re-instantiated in subsequent runs\u001B[39;00m\n\u001B[1;32m     79\u001B[0m     \u001B[38;5;66;03m# Set up agents\u001B[39;00m\n\u001B[1;32m     80\u001B[0m     agents \u001B[38;5;241m=\u001B[39m [\n\u001B[1;32m     81\u001B[0m         Agent(rng\u001B[38;5;241m=\u001B[39mrng,\n\u001B[1;32m     82\u001B[0m               name\u001B[38;5;241m=\u001B[39magent_config[\u001B[38;5;124m'\u001B[39m\u001B[38;5;124mname\u001B[39m\u001B[38;5;124m'\u001B[39m],\n\u001B[1;32m     83\u001B[0m               num_items\u001B[38;5;241m=\u001B[39magent_config[\u001B[38;5;124m'\u001B[39m\u001B[38;5;124mnum_items\u001B[39m\u001B[38;5;124m'\u001B[39m],\n\u001B[0;32m---> 84\u001B[0m               item_values\u001B[38;5;241m=\u001B[39m\u001B[43magents2item_values\u001B[49m\u001B[43m[\u001B[49m\u001B[43magent_config\u001B[49m\u001B[43m[\u001B[49m\u001B[38;5;124;43m'\u001B[39;49m\u001B[38;5;124;43mname\u001B[39;49m\u001B[38;5;124;43m'\u001B[39;49m\u001B[43m]\u001B[49m\u001B[43m]\u001B[49m,\n\u001B[1;32m     85\u001B[0m               allocator\u001B[38;5;241m=\u001B[39m\u001B[38;5;28meval\u001B[39m(\u001B[38;5;124mf\u001B[39m\u001B[38;5;124m\"\u001B[39m\u001B[38;5;132;01m{\u001B[39;00magent_config[\u001B[38;5;124m'\u001B[39m\u001B[38;5;124mallocator\u001B[39m\u001B[38;5;124m'\u001B[39m][\u001B[38;5;124m'\u001B[39m\u001B[38;5;124mtype\u001B[39m\u001B[38;5;124m'\u001B[39m]\u001B[38;5;132;01m}\u001B[39;00m\u001B[38;5;124m(rng=rng\u001B[39m\u001B[38;5;132;01m{\u001B[39;00mparse_kwargs(agent_config[\u001B[38;5;124m'\u001B[39m\u001B[38;5;124mallocator\u001B[39m\u001B[38;5;124m'\u001B[39m][\u001B[38;5;124m'\u001B[39m\u001B[38;5;124mkwargs\u001B[39m\u001B[38;5;124m'\u001B[39m])\u001B[38;5;132;01m}\u001B[39;00m\u001B[38;5;124m)\u001B[39m\u001B[38;5;124m\"\u001B[39m),\n\u001B[1;32m     86\u001B[0m               bidder\u001B[38;5;241m=\u001B[39m\u001B[38;5;28meval\u001B[39m(\u001B[38;5;124mf\u001B[39m\u001B[38;5;124m\"\u001B[39m\u001B[38;5;132;01m{\u001B[39;00magent_config[\u001B[38;5;124m'\u001B[39m\u001B[38;5;124mbidder\u001B[39m\u001B[38;5;124m'\u001B[39m][\u001B[38;5;124m'\u001B[39m\u001B[38;5;124mtype\u001B[39m\u001B[38;5;124m'\u001B[39m]\u001B[38;5;132;01m}\u001B[39;00m\u001B[38;5;124m(rng=rng\u001B[39m\u001B[38;5;132;01m{\u001B[39;00mparse_kwargs(agent_config[\u001B[38;5;124m'\u001B[39m\u001B[38;5;124mbidder\u001B[39m\u001B[38;5;124m'\u001B[39m][\u001B[38;5;124m'\u001B[39m\u001B[38;5;124mkwargs\u001B[39m\u001B[38;5;124m'\u001B[39m])\u001B[38;5;132;01m}\u001B[39;00m\u001B[38;5;124m)\u001B[39m\u001B[38;5;124m\"\u001B[39m),\n\u001B[1;32m     87\u001B[0m               memory\u001B[38;5;241m=\u001B[39m(\u001B[38;5;241m0\u001B[39m \u001B[38;5;28;01mif\u001B[39;00m \u001B[38;5;124m'\u001B[39m\u001B[38;5;124mmemory\u001B[39m\u001B[38;5;124m'\u001B[39m \u001B[38;5;129;01mnot\u001B[39;00m \u001B[38;5;129;01min\u001B[39;00m agent_config\u001B[38;5;241m.\u001B[39mkeys() \u001B[38;5;28;01melse\u001B[39;00m agent_config[\u001B[38;5;124m'\u001B[39m\u001B[38;5;124mmemory\u001B[39m\u001B[38;5;124m'\u001B[39m]))\n\u001B[1;32m     88\u001B[0m         \u001B[38;5;28;01mfor\u001B[39;00m agent_config \u001B[38;5;129;01min\u001B[39;00m agent_configs\n\u001B[1;32m     89\u001B[0m     ]\n\u001B[1;32m     91\u001B[0m     \u001B[38;5;28;01mfor\u001B[39;00m agent \u001B[38;5;129;01min\u001B[39;00m agents:\n\u001B[1;32m     92\u001B[0m         \u001B[38;5;28;01mif\u001B[39;00m \u001B[38;5;28misinstance\u001B[39m(agent\u001B[38;5;241m.\u001B[39mallocator, OracleAllocator):\n",
      "\u001B[0;31mKeyError\u001B[0m: 'Truthful Oracle 1'"
     ]
    }
   ],
   "source": [
    "from ad_auction import ad_auction\n",
    "\n",
    "# Specify the path to the configuration file\n",
    "config_path = \"/Users/yuchenji/PycharmProjects/Capstone/config.json\"\n",
    "\n",
    "# Run the ad_auction function and get the net utility of the first agent\n",
    "net_utility = ad_auction(config_path)\n",
    "\n",
    "# Print the net utility\n",
    "print(\"Net Utility of the first agent:\", net_utility)"
   ]
  },
  {
   "cell_type": "code",
   "execution_count": 49,
   "outputs": [
    {
     "name": "stdout",
     "output_type": "stream",
     "text": [
      "Keys in agents2item_values: dict_keys(['Truthful Oracle 1', 'Truthful Oracle 2', 'Truthful Oracle 3', 'Truthful Oracle 4', 'Truthful Oracle 5', 'Truthful Oracle 6', 'Truthful Oracle 7'])\n"
     ]
    }
   ],
   "source": [
    "print(\"Keys in agents2item_values:\", agents2item_values.keys())\n"
   ],
   "metadata": {
    "collapsed": false,
    "ExecuteTime": {
     "end_time": "2023-11-12T16:20:06.230072Z",
     "start_time": "2023-11-12T16:20:06.223547Z"
    }
   },
   "id": "ab27d7701ad002f"
  },
  {
   "cell_type": "code",
   "execution_count": 44,
   "outputs": [
    {
     "name": "stdout",
     "output_type": "stream",
     "text": [
      "Agent: Truthful Oracle 1, Item Values Key: Truthful Oracle 1, Item Values: [0.82042804 1.45766089 1.37246817 1.04097916 1.68481823 1.03068632\n",
      " 0.88036037 1.07124906 1.37103612 0.9162274  1.63271621 0.92375791]\n",
      "Agent: Truthful Oracle 2, Item Values Key: Truthful Oracle 2, Item Values: [1.33761002 1.23231249 1.07163829 1.37177647 0.8187637  1.44992866\n",
      " 1.09118384 0.99154886 1.28381333 1.3661271  1.28911906 1.64855767]\n",
      "Agent: Truthful Oracle 3, Item Values Key: Truthful Oracle 3, Item Values: [1.37182945 1.42860912 0.99205891 1.12896892 1.23688549 1.10125623\n",
      " 1.17389473 1.20348432 1.30845727 1.08293855 1.03049591 0.93644627]\n",
      "Agent: Truthful Oracle 4, Item Values Key: Truthful Oracle 4, Item Values: [0.92464401 1.39722796 1.0866458  1.29354806 0.85259318 0.75003634\n",
      " 0.89599697 1.39003009 1.36836348 1.18105454 0.94135587 1.07663396]\n",
      "Agent: Truthful Oracle 5, Item Values Key: Truthful Oracle 5, Item Values: [1.04127706 1.031491   0.66950679 0.93091689 1.06393918 1.49673424\n",
      " 1.14127791 1.4625444  1.02148619 1.05070596 0.50667559 1.21247784]\n",
      "Agent: Truthful Oracle 6, Item Values Key: Truthful Oracle 6, Item Values: [1.23296166 1.57263383 1.00265127 1.12617939 0.95972779 0.87349628\n",
      " 0.95827394 1.03148581 1.44931004 1.10565987 0.94354713 1.13697993]\n",
      "Agent: Truthful Oracle 7, Item Values Key: Truthful Oracle 7, Item Values: [1.15432328 0.96536751 1.38908704 0.75754694 1.058964   1.26239816\n",
      " 0.84561889 1.18797568 1.43129354 1.21013782 0.78817748 0.95538679]\n"
     ]
    }
   ],
   "source": [
    "for agent_config in agent_configs:\n",
    "    agent_name = agent_config['name']\n",
    "    agent_item_values_key = agent_name\n",
    "    agent_item_values = agents2item_values.get(agent_item_values_key, None)\n",
    "    print(f\"Agent: {agent_name}, Item Values Key: {agent_item_values_key}, Item Values: {agent_item_values}\")\n"
   ],
   "metadata": {
    "collapsed": false,
    "ExecuteTime": {
     "start_time": "2023-11-12T15:40:24.548074Z"
    }
   },
   "id": "ea40e8600c90f61b"
  },
  {
   "cell_type": "markdown",
   "id": "4dba884d",
   "metadata": {},
   "source": [
    "# Notes\n",
    "\n",
    "The paper mentions (in the conclusion) that the bandit model that they study is a limiting approximation of the full bidding problem\n",
    "\n",
    "Bandit models are myopic: They associate the outcome of a single auction with their bid in that auction, which is good, but they ignore the fact that their bid in this auction will impact what other bidders learn from the auction which, in turn will impact how they bid in subsequent auctions. And all of the other bidders’ bids will affect what we learn, etc.\n",
    "\n",
    "All of that feedback means that your bid now will affect not only this auction but future auctions, too. So that outcome of an auction should not only be associated with your bid in that single auction, but also in previous auctions. But how? It’s tough. In reinforcement learning this is called the credit assignment problem.\n",
    "Episodic policy search is non-myopic and makes explicit credit assignment unnecessary.\n",
    "Bayesian optimization is a good way to do episodic policy search in a simulation *and* in real, production, advertising systems.\n",
    "\n",
    "See paragraph below eqn (14):\n",
    "\n",
    "Finally, note that these measures are only well-defined in the bandit-based setting where we can easily characterise the theoretically optimal bidding strategy. When moving to full reinforcement learning scenarios, this will no longer be the case. Indeed, when cur- rent actions influence future states, this adds significant complexity to the problem setting, obscuring the notion of optimality.\n",
    "\n",
    "To understand what a “bidder” does in the AuctionGym simulation, look at TruthfulBidder\n",
    "https://github.com/amzn/auction-gym/blob/065f8bf325ebbec9c96631625ef1c36df3870cb3/src/Bidder.py#L28C16-L28C16\n",
    "\n",
    "The bid() method returns the price an advertiser will pay for a click on the ad (called value, ex., value = $3/click) times the probability that the user will click on that ad (called estimated_CTR, ex., estimated_CTR=0.01). The returned number is the expected dollar revenue of showing the ad:\n",
    "\n",
    "```\n",
    "  E[$revenue] = P{user will click on the ad} * [$amount advertiser will pay for the click]\n",
    "  E[$revenue] = estimated_CTR * value\n",
    "```\n",
    "\n",
    "See notes at https://github.com/amzn/auction-gym/blob/065f8bf325ebbec9c96631625ef1c36df3870cb3/src/Auction.py#L64\n",
    "The TruthfulBidder says, “I will bid — in the ad auction — the actual expected value for this ad.”\n",
    "```\n",
    "bid = E[$revenue]\n",
    "```\n",
    "The learning bidders are more clever: They try to win while still bidding a little lower than the true expected value, because, why not? They save money. The paper and code refer to this as “bid shading”.\n",
    "\n",
    "```\n",
    "bid = gamma*E[$revenue], where gamma, the shading amount, is in [0,1]\n",
    "```\n",
    "\n",
    "The shading value is a function of value and estimated_CTR.\n",
    "\n",
    "Look at method PolicyLearningBidder.bid()\n",
    "https://github.com/amzn/auction-gym/blob/065f8bf325ebbec9c96631625ef1c36df3870cb3/src/Bidder.py#L348\n",
    "\n",
    "PolicyLearningBidder uses as its model BidShadingContextualBandit\n",
    "See BidShadingContextualBandit at https://github.com/amzn/auction-gym/blob/065f8bf325ebbec9c96631625ef1c36df3870cb3/src/Models.py#L93\n",
    "\n",
    "BidShadingContextualBandit is a PyTorch nn.Module. As such it has parameters that describe the function that maps x to gamma.\n",
    "\n",
    "PolicyLearningBidder.bid() makes a feature vector, x, from (value, estimated_CTR)\n",
    "https://github.com/amzn/auction-gym/blob/065f8bf325ebbec9c96631625ef1c36df3870cb3/src/Bidder.py#L360C53-L360C53\n",
    "\n",
    "The model (BidShadingContextualBandit.forward()) maps the feature vector x to gamma. It also produces something called a propensity value, but we can discuss that later if you’re not already familiar with it.\n",
    "\n",
    "Finally, PolicyLearningBidder.bid() returns gamma*value*estimated_CTR, the shaded bid value.\n",
    "In a second-price auction, the bidder who bids the highest price wins, but *pays* the bid of the second-highest bidder. So if you bid $3.00 and I bid $2.50, you win the auction and get to show your ad, but you pay only $2.50. \n",
    "\n",
    "This is great… except:\n",
    "Next time I might want to bid $3.01 to win, thus driving up the price of this ad slot.\n",
    "As a rule, you want to bid as low as possible."
   ]
  },
  {
   "cell_type": "code",
   "execution_count": null,
   "id": "dc7f0af9",
   "metadata": {
    "ExecuteTime": {
     "start_time": "2023-11-11T15:48:07.766164Z"
    }
   },
   "outputs": [],
   "source": []
  }
 ],
 "metadata": {
  "language_info": {
   "name": "python",
   "pygments_lexer": "ipython3"
  },
  "kernelspec": {
   "name": "python3",
   "language": "python",
   "display_name": "Python 3 (ipykernel)"
  }
 },
 "nbformat": 4,
 "nbformat_minor": 5
}
