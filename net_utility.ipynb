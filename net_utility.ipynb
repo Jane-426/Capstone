{
 "cells": [
  {
   "cell_type": "code",
   "execution_count": null,
   "id": "56a66a29",
   "metadata": {},
   "outputs": [],
   "source": [
    "import matplotlib.pyplot as plt\n",
    "import numpy as np\n",
    "from collections import defaultdict\n",
    "from main import parse_config, instantiate_agents, instantiate_auction"
   ]
  },
  {
   "cell_type": "code",
   "execution_count": null,
   "id": "17743d6b",
   "metadata": {},
   "outputs": [],
   "source": [
    "# Parse configuration file\n",
    "rng, config, agent_configs, agents2items, agents2item_values,\\\n",
    "num_runs, max_slots, embedding_size, embedding_var,\\\n",
    "obs_embedding_size = parse_config('../auction-gym/config/SP_Oracle.json')"
   ]
  },
  {
   "cell_type": "markdown",
   "id": "728d6d8c",
   "metadata": {},
   "source": [
    "# Config\n",
    "\n",
    "For an explanation of the config fields, see [CONFIG.md](https://github.com/amzn/auction-gym/blob/065f8bf325ebbec9c96631625ef1c36df3870cb3/CONFIG.md?plain=1#L30)."
   ]
  },
  {
   "cell_type": "code",
   "execution_count": null,
   "id": "2f5f075a",
   "metadata": {},
   "outputs": [],
   "source": [
    "config"
   ]
  },
  {
   "cell_type": "code",
   "execution_count": null,
   "id": "3d4100a9",
   "metadata": {},
   "outputs": [],
   "source": [
    "agent_configs"
   ]
  },
  {
   "cell_type": "code",
   "execution_count": null,
   "id": "ba707b7b",
   "metadata": {},
   "outputs": [],
   "source": [
    "agents = instantiate_agents(rng, agent_configs, agents2item_values, agents2items)\n",
    "\n",
    "auction, num_iter, rounds_per_iter, output_dir =\\\n",
    "    instantiate_auction(rng,\n",
    "                        config,\n",
    "                        agents2items,\n",
    "                        agents2item_values,\n",
    "                        agents,\n",
    "                        max_slots,\n",
    "                        embedding_size,\n",
    "                        embedding_var,\n",
    "                        obs_embedding_size)\n",
    "config"
   ]
  },
  {
   "cell_type": "code",
   "execution_count": null,
   "id": "e96b3d38",
   "metadata": {},
   "outputs": [],
   "source": [
    "# Let's decrease rounds_per_iter for now b/c we just want to test things out.\n",
    "# Using a lower rounds_per_iter just means that the runs will take less time.\n",
    "rounds_per_iter = 100"
   ]
  },
  {
   "cell_type": "code",
   "execution_count": null,
   "id": "dbbe3205",
   "metadata": {},
   "outputs": [],
   "source": [
    "for _ in range(rounds_per_iter):\n",
    "    auction.simulate_opportunity()"
   ]
  },
  {
   "cell_type": "code",
   "execution_count": null,
   "id": "c9a0bb2d",
   "metadata": {},
   "outputs": [],
   "source": [
    "agents[0].net_utility"
   ]
  },
  {
   "cell_type": "code",
   "execution_count": null,
   "id": "4d3fa2ef",
   "metadata": {},
   "outputs": [],
   "source": []
  }
 ],
 "metadata": {
  "language_info": {
   "name": "python",
   "pygments_lexer": "ipython3"
  }
 },
 "nbformat": 4,
 "nbformat_minor": 5
}
