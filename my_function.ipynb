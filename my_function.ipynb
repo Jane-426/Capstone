{
 "cells": [
  {
   "cell_type": "code",
   "execution_count": null,
   "outputs": [],
   "source": [
    "import numpy as np\n",
    "\n",
    "def simulate_auction(auction_type, bidders, num_rounds):\n",
    "    if auction_type == \"first-price\":\n",
    "        revenue = auction1(bidders, num_rounds)\n",
    "    elif auction_type == \"second-price\":\n",
    "        revenue = auction2(bidders, num_rounds)\n",
    "    else:\n",
    "        raise ValueError(\"Invalid auction type.\")\n",
    "    return revenue\n",
    "\n",
    "def auction1(bidders, num_rounds):\n",
    "    auction_revenue = 0\n",
    "    for _ in range(num_rounds):\n",
    "        bids = [bidder[\"bid_function\"]() for bidder in bidders]\n",
    "        winning_bidder = np.argmax(bids)\n",
    "        winning_bid = bids[winning_bidder]\n",
    "        auction_revenue += winning_bid\n",
    "    return auction_revenue\n",
    "\n",
    "def auction2(bidders, num_rounds):\n",
    "    auction_revenue = 0\n",
    "    for _ in range(num_rounds):\n",
    "        bids = [bidder[\"bid_function\"]() for bidder in bidders]\n",
    "        winning_bidder = np.argmax(bids)\n",
    "        second_highest_bid = np.partition(bids, -2)[-2]\n",
    "        winning_bid = second_highest_bid\n",
    "        if second_highest_bid == bids[winning_bidder]:\n",
    "            winning_bid = bids[winning_bidder]\n",
    "        auction_revenue += winning_bid\n",
    "    return auction_revenue\n",
    "\n",
    "# Example usage:\n",
    "if __name__ == \"__main__\":\n",
    "    # Define bidding strategies for bidders\n",
    "    bidder1 = {\"bid_function\": lambda: np.random.uniform(40, 100)}\n",
    "    bidder2 = {\"bid_function\": lambda: np.random.uniform(50, 90)}\n",
    "    bidders = [bidder1, bidder2]\n",
    "\n",
    "    # Simulate auctions with the defined bidders for 100 rounds\n",
    "    revenue = simulate_auction(\"first-price\", bidders, num_rounds=100)\n",
    "    print(\"Total revenue in first-price auction:\", revenue)\n",
    "    revenue = simulate_auction(\"second-price\", bidders, num_rounds=100)\n",
    "    print(\"Total revenue in second-price auction:\", revenue)\n"
   ],
   "metadata": {},
   "id": "824869b0155bc8f4"
  }
 ],
 "metadata": {
  "language_info": {
   "name": "python",
   "pygments_lexer": "ipython3"
  }
 },
 "nbformat": 4,
 "nbformat_minor": 5
}
